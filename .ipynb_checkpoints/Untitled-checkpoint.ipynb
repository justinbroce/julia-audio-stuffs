{
 "cells": [
  {
   "cell_type": "code",
   "execution_count": 4,
   "id": "97e09bc6",
   "metadata": {},
   "outputs": [],
   "source": [
    "include(\"synth.jl\")\n",
    "include(\"distortion.jl\")\n",
    "using Plots\n",
    "\n"
   ]
  },
  {
   "cell_type": "code",
   "execution_count": 110,
   "id": "9921782e",
   "metadata": {},
   "outputs": [],
   "source": [
    "a = getSine(1,\"d#5\",40000)/2 .+ getSine(1,\"a5\",40000)/2\n",
    "a = cheb(a)\n",
    "b = fft(a)\n",
    "using Plots\n",
    "plot(abs.(b),x_lims=(1, 20000))\n",
    "wavplay(a,40000)"
   ]
  },
  {
   "cell_type": "code",
   "execution_count": 10,
   "id": "47b68ce0",
   "metadata": {},
   "outputs": [
    {
     "data": {
      "text/plain": [
       "hardC (generic function with 1 method)"
      ]
     },
     "execution_count": 10,
     "metadata": {},
     "output_type": "execute_result"
    }
   ],
   "source": [
    "\n",
    "function hardC(signal::Vector{Float64}, gain::Float64)::Vector{Float64}\n",
    "    c(x,y) = (abs(x*y) < 1 && return x*y)  || return sign(x) \n",
    "    return c.(signal,gain)\n",
    "end    "
   ]
  },
  {
   "cell_type": "code",
   "execution_count": 2,
   "id": "73ba53fc",
   "metadata": {},
   "outputs": [
    {
     "data": {
      "text/plain": [
       "processAD1 (generic function with 2 methods)"
      ]
     },
     "execution_count": 2,
     "metadata": {},
     "output_type": "execute_result"
    }
   ],
   "source": [
    "function f1(x::Float64)::Float64\n",
    "    return abs(x) < 1 ? x^2/2 : sign(x) - .5\n",
    "end\n",
    "\n",
    "function processAD1(signal::Vector{Float64},TOL=1.0e-5)\n",
    "    x1 = 0.0\n",
    "    f(x) = (abs(x) < 1 && return x)  || return sign(x) \n",
    "    \n",
    "    returnSignal = Float64[]\n",
    "    for s in signal\n",
    "        if (s - x1) < TOL # fallback\n",
    "            push!(returnSignal, f((s + x1) / 2))\n",
    "        else\n",
    "            push!(returnSignal, (f1(s) - f1(x1)) / (s-x1)) \n",
    "            x1 = s  \n",
    "        end\n",
    "    end\n",
    "    return returnSignal\n",
    "end"
   ]
  },
  {
   "cell_type": "code",
   "execution_count": 14,
   "id": "bdd5f865",
   "metadata": {},
   "outputs": [
    {
     "name": "stdout",
     "output_type": "stream",
     "text": [
      "  0.001566 seconds (16 allocations: 1.001 MiB)\n"
     ]
    }
   ],
   "source": [
    "a = 100 * getSine(1,\"a5\")\n",
    "@time a = processAD1(a)\n",
    "b = hardC(getSine(1,\"a5\"), 100.0) \n",
    "append!(a,b)\n",
    "wavplay(a,41000)\n",
    "\n"
   ]
  },
  {
   "cell_type": "code",
   "execution_count": 1,
   "id": "2c3a2753",
   "metadata": {},
   "outputs": [
    {
     "name": "stdout",
     "output_type": "stream",
     "text": [
      "3"
     ]
    }
   ],
   "source": [
    "print(3)"
   ]
  },
  {
   "cell_type": "code",
   "execution_count": null,
   "id": "6ed7e670",
   "metadata": {},
   "outputs": [],
   "source": []
  }
 ],
 "metadata": {
  "kernelspec": {
   "display_name": "Julia 1.6.3",
   "language": "julia",
   "name": "julia-1.6"
  },
  "language_info": {
   "file_extension": ".jl",
   "mimetype": "application/julia",
   "name": "julia",
   "version": "1.6.3"
  }
 },
 "nbformat": 4,
 "nbformat_minor": 5
}
