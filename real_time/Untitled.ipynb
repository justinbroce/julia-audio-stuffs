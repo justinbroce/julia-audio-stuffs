{
 "cells": [
  {
   "cell_type": "code",
   "execution_count": 1,
   "id": "22332a8d",
   "metadata": {},
   "outputs": [],
   "source": [
    "using MIDI"
   ]
  },
  {
   "cell_type": "code",
   "execution_count": 3,
   "id": "b154f3c8",
   "metadata": {},
   "outputs": [
    {
     "data": {
      "text/plain": [
       "MIDIFile (format=1, tpq=384) with tracks:\n",
       " No track name found\n",
       " Track 1\n",
       " MIDI\n"
      ]
     },
     "execution_count": 3,
     "metadata": {},
     "output_type": "execute_result"
    }
   ],
   "source": [
    "a = load(\"foo.mid\")"
   ]
  },
  {
   "cell_type": "code",
   "execution_count": 4,
   "id": "6c24244b",
   "metadata": {},
   "outputs": [
    {
     "data": {
      "text/plain": [
       "MIDIFile (format=1, tpq=384) with tracks:\n",
       " No track name found\n",
       " Track 1\n",
       " MIDI\n"
      ]
     },
     "execution_count": 4,
     "metadata": {},
     "output_type": "execute_result"
    }
   ],
   "source": [
    "a"
   ]
  },
  {
   "cell_type": "code",
   "execution_count": null,
   "id": "6e0748a6",
   "metadata": {},
   "outputs": [],
   "source": []
  }
 ],
 "metadata": {
  "kernelspec": {
   "display_name": "Julia 1.6.3",
   "language": "julia",
   "name": "julia-1.6"
  },
  "language_info": {
   "file_extension": ".jl",
   "mimetype": "application/julia",
   "name": "julia",
   "version": "1.6.3"
  }
 },
 "nbformat": 4,
 "nbformat_minor": 5
}
